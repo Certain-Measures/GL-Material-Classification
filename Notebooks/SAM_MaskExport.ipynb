{
 "cells": [
  {
   "cell_type": "markdown",
   "metadata": {
    "id": "IOXOkvrngd8e"
   },
   "source": [
    "## **Mask exporting from SAM**\n",
    "\n",
    "This notebook contains scripts necessary for using Segment Anything (SAM) to perform non-semantic segmentation on scan photos, exporting several types of segmented images:\n",
    "\n",
    "(for each image)\n",
    "1. Overall segmented image with mask overlays in random colors\n",
    "2. Separate binary masks for each segmented region\n",
    "3. Separate RGB images of the original photos with outlines of each segmented region\n",
    "\n",
    "The scripts provided here perform some rudimentary culling of overlapping segmented regions and very small regions.\n",
    "\n",
    "Requirements\n",
    "- A machine with a CUDA-enabled GPU is better"
   ]
  },
  {
   "cell_type": "markdown",
   "metadata": {},
   "source": [
    "## Setup"
   ]
  },
  {
   "cell_type": "code",
   "execution_count": null,
   "metadata": {
    "colab": {
     "base_uri": "https://localhost:8080/"
    },
    "executionInfo": {
     "elapsed": 12924,
     "status": "ok",
     "timestamp": 1738083450212,
     "user": {
      "displayName": "Stephen Hawking",
      "userId": "16164825628506018492"
     },
     "user_tz": 300
    },
    "id": "JXWwaYsxBzh3",
    "outputId": "13f3c7af-487a-4e26-e835-4fdb5e407aea"
   },
   "outputs": [],
   "source": [
    "import sys\n",
    "import subprocess\n",
    "\n",
    "# cuda_version = \"cu128\" # if you have a cuda-enabled card, else use cpu version\n",
    "# index_url = f\"https://download.pytorch.org/whl/{cuda_version}\"\n",
    "\n",
    "subprocess.check_call([sys.executable, \"-m\", \"pip\", \"install\", \"-r\", \"requirements.txt\"])\n",
    "# subprocess.check_call([sys.executable, \"-m\", \"pip\", \"install\", \"opencv-python\"])\n",
    "# subprocess.check_call([sys.executable, \"-m\", \"pip\", \"install\", \"git+https://github.com/facebookresearch/segment-anything.git\"])\n",
    "# subprocess.check_call([sys.executable, \"-m\", \"pip\", \"install\", \"supervision\"])\n",
    "# subprocess.check_call([sys.executable, \"-m\", \"pip\", \"install\", \"matplotlib\"])\n",
    "# subprocess.check_call([sys.executable, \"-m\", \"pip\", \"install\", \"pillow\"])\n",
    "# subprocess.check_call([sys.executable, \"-m\", \"pip\", \"install\", \"torch\", \"--index-url\", index_url])\n",
    "# subprocess.check_call([sys.executable, \"-m\", \"pip\", \"install\", \"torchvision\", \"--index-url\", index_url])\n",
    "# subprocess.check_call([sys.executable, \"-m\", \"pip\", \"install\", \"torchaudio\", \"--index-url\", index_url])\n",
    "\n"
   ]
  },
  {
   "cell_type": "code",
   "execution_count": null,
   "metadata": {
    "executionInfo": {
     "elapsed": 13519,
     "status": "ok",
     "timestamp": 1738083466415,
     "user": {
      "displayName": "Stephen Hawking",
      "userId": "16164825628506018492"
     },
     "user_tz": 300
    },
    "id": "E1_K-JfyB3UG"
   },
   "outputs": [],
   "source": [
    "# Import necessary libraries\n",
    "import torch\n",
    "import cv2\n",
    "import numpy as np\n",
    "from segment_anything import SamAutomaticMaskGenerator, sam_model_registry\n",
    "import matplotlib.pyplot as plt\n",
    "from PIL import Image\n",
    "import supervision as sv\n",
    "import math\n",
    "import os\n",
    "import requests"
   ]
  },
  {
   "cell_type": "code",
   "execution_count": null,
   "metadata": {},
   "outputs": [],
   "source": [
    "def download_file(url, target_directory, filename=None):\n",
    "    \"\"\"\n",
    "    Downloads a file from a given URL to a specified directory.\n",
    "\n",
    "    Args:\n",
    "        url (str): The URL of the file to download.\n",
    "        target_directory (str): The path to the directory where the file will be saved.\n",
    "        filename (str, optional): The name to save the file as. If None,\n",
    "                                  the filename will be extracted from the URL.\n",
    "    \"\"\"\n",
    "    if not os.path.exists(target_directory):\n",
    "        os.makedirs(target_directory)  # Create the directory if it doesn't exist\n",
    "\n",
    "    if filename is None:\n",
    "        filename = url.split('/')[-1]  # Extract filename from URL\n",
    "\n",
    "    save_path = os.path.join(target_directory, filename)\n",
    "\n",
    "    try:\n",
    "        response = requests.get(url, stream=True)\n",
    "        response.raise_for_status()  # Raise an exception for bad status codes (4xx or 5xx)\n",
    "\n",
    "        with open(save_path, 'wb') as f:\n",
    "            for chunk in response.iter_content(chunk_size=8192):\n",
    "                f.write(chunk)\n",
    "        print(f\"File downloaded successfully to: {save_path}\")\n",
    "\n",
    "    except requests.exceptions.RequestException as e:\n",
    "        print(f\"Error downloading file: {e}\")\n",
    "\n",
    "# Example usage:\n",
    "sam_model_url = \"https://dl.fbaipublicfiles.com/segment_anything/sam_vit_h_4b8939.pth\"  \n",
    "download_folder = f\"C:/Repos/GL-Material-Classification/Notebooks\"  \n",
    "output_filename = sam_model_url.split('/')[-1]\n",
    "sam_model_path = f\"{download_folder}/{output_filename}\"\n",
    "if not os.path.exists(sam_model_path):\n",
    "    download_file(sam_model_url, download_folder, output_filename)"
   ]
  },
  {
   "cell_type": "code",
   "execution_count": null,
   "metadata": {
    "colab": {
     "base_uri": "https://localhost:8080/"
    },
    "executionInfo": {
     "elapsed": 20190,
     "status": "ok",
     "timestamp": 1738083504383,
     "user": {
      "displayName": "Stephen Hawking",
      "userId": "16164825628506018492"
     },
     "user_tz": 300
    },
    "id": "dzGeLeQWB5my",
    "outputId": "47339ea2-f1c1-4edc-f955-9c369b98c06e"
   },
   "outputs": [],
   "source": [
    "# Load SAM model\n",
    "device = torch.device('cuda')# torch.device('cuda' if torch.cuda.is_available() else 'cpu')\n",
    "sam = sam_model_registry[\"default\"](checkpoint=sam_model_path)  # Use appropriate checkpoint\n",
    "\n",
    "print(torch.__version__)\n",
    "\n",
    "sam.to(device=device)\n",
    "print(str(next(sam.parameters()).device))\n",
    "\n",
    "mask_generator = SamAutomaticMaskGenerator(sam)"
   ]
  },
  {
   "cell_type": "markdown",
   "metadata": {
    "id": "sLSMQOm1E61a"
   },
   "source": [
    "# Define Variables"
   ]
  },
  {
   "cell_type": "markdown",
   "metadata": {},
   "source": [
    "### File locations"
   ]
  },
  {
   "cell_type": "code",
   "execution_count": null,
   "metadata": {
    "executionInfo": {
     "elapsed": 158,
     "status": "ok",
     "timestamp": 1738083509169,
     "user": {
      "displayName": "Stephen Hawking",
      "userId": "16164825628506018492"
     },
     "user_tz": 300
    },
    "id": "_86ppMC8V14L"
   },
   "outputs": [],
   "source": [
    "batch_input_dir = 'C:/tmp_img_process/batch-in' #for batch processing, the directory that contains all photos to segment\n",
    "batch_output_dir = 'C:/tmp_img_process/batch-out'#for batch processing, the sub-directory to put segmentations into\n",
    "input_image_path = 'C:/tmp_img_process/test.jpg' #for a single image test, the input image\n",
    "overlay_images_output_dir = 'C:/tmp_img_process/overlays' #for a single image test, output directory for overlays\n",
    "output_image_path = 'C:/tmp_img_process/composite_image.jpg' #for a signle image test, output path for the composite segmented image\n",
    "test_output_masks_dir = 'C:/tmp_img_process/masks' # for a single image test, the output directory for masks\n",
    "overlay_image_path = 'C:/tmp_img_process/overlay_image.jpg' #output for single image overlay \n"
   ]
  },
  {
   "cell_type": "markdown",
   "metadata": {},
   "source": [
    "### Settings"
   ]
  },
  {
   "cell_type": "code",
   "execution_count": null,
   "metadata": {},
   "outputs": [],
   "source": [
    "\n",
    "line_thickness = 3 #thickness of the boundaries around masks\n",
    "erosion_iterations = int(line_thickness / 2) #used for offsetting the mask boundaries inwards so they are legible and reduces overlapping lines\n",
    "min_mask_area = 10000 #used for culling out very small masks"
   ]
  },
  {
   "cell_type": "markdown",
   "metadata": {
    "id": "sCp7l8ZVj6ra"
   },
   "source": [
    "# Definitions"
   ]
  },
  {
   "cell_type": "code",
   "execution_count": null,
   "metadata": {
    "executionInfo": {
     "elapsed": 148,
     "status": "ok",
     "timestamp": 1738083510128,
     "user": {
      "displayName": "Stephen Hawking",
      "userId": "16164825628506018492"
     },
     "user_tz": 300
    },
    "id": "NorMSTSTaoQi"
   },
   "outputs": [],
   "source": [
    "def cull_small_masks(masks):\n",
    "  final_masks = []\n",
    "  for i, mask in enumerate(masks):\n",
    "    if mask[\"area\"] < min_mask_area:\n",
    "      continue\n",
    "    final_masks.append(mask)\n",
    "  return final_masks\n",
    "def recalculate_mask_areas(masks):\n",
    "  for mask in masks:\n",
    "    mask[\"area\"] = np.sum(get_binary_mask(mask))\n",
    "\n",
    "def extract_masks_only(masks):\n",
    "  final_masks = []\n",
    "  for mask in masks:\n",
    "    final_masks.append(mask['segmentation'])\n",
    "  return final_masks\n",
    "def order_masks_by_size_descending(masks):\n",
    "  masks.sort(reverse = True, key = get_mask_area)\n",
    "\n",
    "def get_mask_area(mask):\n",
    "  return mask['area']\n",
    "\n",
    "def update_mask_area(mask):\n",
    "  mask['area'] = np.sum(get_binary_mask(mask))\n",
    "\n",
    "def get_binary_mask(mask):\n",
    "  return mask['segmentation']\n",
    "\n",
    "def set_binary_mask(mask, binary_mask):\n",
    "  mask['segmentation'] = binary_mask\n",
    "\n",
    "#note: this does not produced desired result and needs to be refined!\n",
    "def handle_mask_intersections_by_subtraction(masks):\n",
    "    final_masks = []\n",
    "    #masks is a list of dictionaries\n",
    "    masks_list = list(masks)  # Ensure masks is a list\n",
    "    #print(type(masks[0]['segmentation']))\n",
    "    #print(masks[0]['segmentation'])\n",
    "    while masks_list:\n",
    "        base_mask = masks_list.pop(0)\n",
    "        base_binary_mask = get_binary_mask(base_mask)\n",
    "\n",
    "        for i, mask in enumerate(masks_list):\n",
    "            #print(f\"mask type pre subtraction {type(get_binary_mask(base_mask))}\")\n",
    "            current_binary_mask = get_binary_mask(mask)\n",
    "            intersection = np.logical_and(base_binary_mask, current_binary_mask)\n",
    "            if np.any(intersection):  # Check if there is any intersection\n",
    "                subtracted = np.array(np.logical_and(base_binary_mask, np.logical_not(current_binary_mask)), dtype=bool)\n",
    "                set_binary_mask(base_mask, subtracted)\n",
    "                base_binary_mask = get_binary_mask(base_mask)\n",
    "\n",
    "        update_mask_area(base_mask)\n",
    "        final_masks.append(base_mask)\n",
    "    return final_masks\n",
    "\n",
    "def segment_image(input_image_path):\n",
    "  # Read input image\n",
    "  image = cv2.imread(input_image_path)\n",
    "  image = cv2.cvtColor(image, cv2.COLOR_BGR2RGB)\n",
    "  height, width, _ = image.shape\n",
    "  # print(height)\n",
    "  # print(width)\n",
    "\n",
    "  # Generate masks\n",
    "  masks = mask_generator.generate(image)\n",
    "  #print(masks[0])\n",
    "  #print(f\"number of masks: {len(masks)}\")\n",
    "  return masks, height, width\n",
    "\n",
    "# Function to generate a composite image with segment masks\n",
    "def generate_composite_image(masks, height, width, output_image_path):\n",
    "  # Create a blank image for the composite output\n",
    "  composite_image = np.zeros((height, width, 3), dtype=np.uint8)\n",
    "\n",
    "  # Generate unique colors for each mask\n",
    "  colors = np.random.randint(0, 255, (len(masks), 3), dtype=np.uint8)\n",
    "\n",
    "  for i, mask in enumerate(masks):\n",
    "    color = colors[i]\n",
    "    # Apply color to the mask area in the composite image\n",
    "    composite_image[mask['segmentation']] = color\n",
    "\n",
    "  # Save the composite image\n",
    "  cv2.imwrite(output_image_path, cv2.cvtColor(composite_image, cv2.COLOR_RGB2BGR))\n",
    "\n",
    "  return composite_image\n",
    "\n",
    "\n",
    "def copy_input_img(input_image_path):\n",
    "  # Read input image\n",
    "  image = cv2.imread(input_image_path)\n",
    "  image_rgb = cv2.cvtColor(image, cv2.COLOR_BGR2RGB)\n",
    "  height, width, _ = image_rgb.shape\n",
    "  return image_rgb.copy(), height, width\n",
    "\n",
    "def draw_single_boundary(boundaries_image, width, height, binary_mask, color, line_thickness, erosion_iterations):\n",
    "  mask = binary_mask\n",
    "  # Ensure the mask has the same dimensions as the original image\n",
    "  if mask.shape != (height, width):\n",
    "      mask = cv2.resize(mask.astype(np.uint8), (width, height), interpolation=cv2.INTER_NEAREST)\n",
    "\n",
    "  #apply erosion to mask to offset the boundary inside so that neighboring boundaries clip each other less\n",
    "  eroded_mask = cv2.erode(mask.astype(np.uint8), np.ones((3, 3), np.uint8), iterations=erosion_iterations)\n",
    "\n",
    "  # Find contours of the mask\n",
    "  contours, _ = cv2.findContours(eroded_mask, cv2.RETR_EXTERNAL, cv2.CHAIN_APPROX_SIMPLE)\n",
    "\n",
    "  # Draw contours on the boundaries image\n",
    "  cv2.drawContours(boundaries_image, contours, -1, color, line_thickness)\n",
    "\n",
    "def write_image(output_image_path, image):\n",
    "  cv2.imwrite(output_image_path, cv2.cvtColor(image, cv2.COLOR_RGB2BGR))\n",
    "\n",
    "# Function to overlay mask boundaries on the original image\n",
    "def overlay_boundaries_composite(masks, input_image_path, output_image_path, line_thickness=2, erosion_iterations=1):\n",
    "  boundaries_image, height, width = copy_input_img(input_image_path)\n",
    "\n",
    "  # Generate unique colors for each boundary\n",
    "  colors = np.random.randint(0, 255, (len(masks), 3), dtype=np.uint8)\n",
    "\n",
    "  for i, mask_data in enumerate(masks):\n",
    "      color = colors[i].tolist()\n",
    "      draw_single_boundary(boundaries_image, width, height, get_binary_mask(mask_data), color, line_thickness, erosion_iterations)\n",
    "\n",
    "  # Overlay boundaries on the original image\n",
    "  overlay_image = boundaries_image \n",
    "\n",
    "  # Save the composite image\n",
    "  write_image(output_image_path, overlay_image)\n",
    "\n",
    "  return overlay_image\n",
    "\n",
    "def overlay_boundaries_single(masks, input_image_path, output_images_dir, line_thickness=2, erosion_iterations=1):\n",
    "  color = [255,0,0]\n",
    "  for i, mask_data in enumerate(masks):\n",
    "    boundaries_image, height, width = copy_input_img(input_image_path)\n",
    "    draw_single_boundary(boundaries_image, width, height, get_binary_mask(mask_data), color, line_thickness, erosion_iterations)\n",
    "    output_path = f\"{output_images_dir}/{str(i).zfill(3)}.jpg\"\n",
    "    write_image(output_path, boundaries_image)\n",
    "\n",
    "def save_masks_single(masks, output_images_dir):\n",
    "  for i, mask_data in enumerate(masks):\n",
    "    # Convert the 'true'/'false' mask to a numerical mask (0 for 'false', 1 for 'true')\n",
    "    numerical_mask = np.where(get_binary_mask(mask_data), 1, 0)\n",
    "    # Convert the numerical mask to an 8-bit image (0-255)\n",
    "    img = (numerical_mask * 255).astype(np.uint8)\n",
    "    # Create an image from the NumPy array\n",
    "    image = Image.fromarray(img, mode='L')  # 'L' mode is for grayscale\n",
    "    image.save(f\"{output_images_dir}/{str(i).zfill(3)}.png\")\n",
    "\n",
    "def single_image_process(input_image_path):\n",
    "  head, tail = os.path.split(input_image_path)\n",
    "  name_parts = tail.split('.')\n",
    "  name = name_parts[0]\n",
    "  masks, height, width = segment_image(input_image_path)\n",
    "  # print(f\"number of initial masks: {len(masks)}\")\n",
    "  # print(masks[0]['area'])\n",
    "  # print(masks[len(masks) - 1]['area'])\n",
    "  order_masks_by_size_descending(masks)\n",
    "  # print(masks[0]['area'])\n",
    "  # print(masks[len(masks) - 1]['area'])\n",
    "  masks = cull_small_masks(masks)\n",
    "  #print(f\"number of masks after size cull 1: {len(masks)}\")\n",
    "  masks = handle_mask_intersections_by_subtraction(masks)\n",
    "  #print(f\"number of masks after subtraction: {len(masks)}\")\n",
    "  recalculate_mask_areas(masks)\n",
    "  masks = cull_small_masks(masks)\n",
    "  #print(f\"number of final masks: {len(masks)}\")\n",
    "  composite_image_final = generate_composite_image(masks, height, width, f\"{batch_output_dir}/{name}_segment.jpg\")\n",
    "  overlay_image_final = overlay_boundaries_composite(masks, input_image_path, f\"{batch_output_dir}/{name}_overlay.jpg\", line_thickness, erosion_iterations)\n",
    "  boundaries_dir = f\"{batch_output_dir}/{name}/outlines\"\n",
    "  masks_dir = f\"{batch_output_dir}/{name}/masks\"\n",
    "  if not os.path.exists(boundaries_dir):\n",
    "    os.makedirs(boundaries_dir)\n",
    "  if not os.path.exists(masks_dir):\n",
    "    os.makedirs(masks_dir)\n",
    "  overlay_boundaries_single(masks, input_image_path, boundaries_dir, line_thickness, erosion_iterations)\n",
    "  save_masks_single(masks, masks_dir)\n",
    "\n",
    "def plot_masks(masks, column_ct):\n",
    "  binary_masks = []\n",
    "  #print(masks[0])\n",
    "  for mask in masks:\n",
    "    binary_masks.append(get_binary_mask(mask))\n",
    "  #print(binary_masks[0])\n",
    "  row_ct = math.ceil(len(masks)/column_ct)\n",
    "  sv.plot_images_grid(images = binary_masks, grid_size = (row_ct, column_ct), size=(16, 16))\n"
   ]
  },
  {
   "cell_type": "markdown",
   "metadata": {
    "id": "goxFgBJlkRRy"
   },
   "source": [
    "# Single Image Test"
   ]
  },
  {
   "cell_type": "code",
   "execution_count": null,
   "metadata": {
    "colab": {
     "base_uri": "https://localhost:8080/"
    },
    "executionInfo": {
     "elapsed": 9102,
     "status": "ok",
     "timestamp": 1731700955289,
     "user": {
      "displayName": "Stephen Hawking",
      "userId": "16164825628506018492"
     },
     "user_tz": 300
    },
    "id": "J1KCH11PCCaD",
    "outputId": "d06e558d-2317-4190-9ebf-fbe2bc1b5980"
   },
   "outputs": [],
   "source": [
    "# Generate composite image\n",
    "masks, height, width = segment_image(input_image_path)\n",
    "print(f\"number of initial masks: {len(masks)}\")\n",
    "print(masks[0]['area'])\n",
    "print(masks[len(masks) - 1]['area'])\n",
    "order_masks_by_size_descending(masks)\n",
    "print(masks[0]['area'])\n",
    "print(masks[len(masks) - 1]['area'])\n",
    "masks = cull_small_masks(masks)\n",
    "print(f\"number of masks after size cull 1: {len(masks)}\")\n",
    "#masks = extract_masks_only(masks)\n",
    "composite_image_prelim = generate_composite_image(masks, height, width, output_image_path)\n",
    "overlay_image_prelim = overlay_boundaries_composite(masks, input_image_path, overlay_image_path, line_thickness, erosion_iterations)\n",
    "print(masks[0])\n",
    "print(f\"number of big masks: {len(masks)}\")\n",
    "masks = handle_mask_intersections_by_subtraction(masks)\n",
    "print(f\"number of masks after subtraction: {len(masks)}\")\n",
    "recalculate_mask_areas(masks)\n",
    "masks = cull_small_masks(masks)\n",
    "print(f\"number of masks after size cull 2: {len(masks)}\")\n",
    "print(f\"number of final masks: {len(masks)}\")\n",
    "composite_image_final = generate_composite_image(masks, height, width, output_image_path)\n",
    "overlay_image_final = overlay_boundaries_composite(masks, input_image_path, overlay_image_path, line_thickness, erosion_iterations)\n",
    "overlay_boundaries_single(masks, input_image_path, overlay_images_output_dir, line_thickness, erosion_iterations)\n",
    "if not os.path.exists(test_output_masks_dir):\n",
    "    os.makedirs(test_output_masks_dir)\n",
    "save_masks_single(masks, test_output_masks_dir)"
   ]
  },
  {
   "cell_type": "code",
   "execution_count": null,
   "metadata": {
    "colab": {
     "base_uri": "https://localhost:8080/",
     "height": 135
    },
    "executionInfo": {
     "elapsed": 621,
     "status": "ok",
     "timestamp": 1731700959882,
     "user": {
      "displayName": "Stephen Hawking",
      "userId": "16164825628506018492"
     },
     "user_tz": 300
    },
    "id": "gVXsGLH8JU0g",
    "outputId": "1321946e-2e6a-4a75-f975-d781d261a3b9"
   },
   "outputs": [],
   "source": [
    "\n",
    "\n",
    "# Display the composite image\n",
    "plt.imshow(overlay_image_prelim)\n",
    "plt.axis('off')\n",
    "plt.show()"
   ]
  },
  {
   "cell_type": "code",
   "execution_count": null,
   "metadata": {
    "colab": {
     "base_uri": "https://localhost:8080/",
     "height": 135
    },
    "executionInfo": {
     "elapsed": 556,
     "status": "ok",
     "timestamp": 1731700961463,
     "user": {
      "displayName": "Stephen Hawking",
      "userId": "16164825628506018492"
     },
     "user_tz": 300
    },
    "id": "c422NN2B7eBo",
    "outputId": "4f3cdd81-d7d8-4db0-b265-51bbb29ae1ad"
   },
   "outputs": [],
   "source": [
    "# Display the composite image\n",
    "plt.imshow(composite_image_prelim)\n",
    "plt.axis('off')\n",
    "plt.show()\n"
   ]
  },
  {
   "cell_type": "code",
   "execution_count": null,
   "metadata": {
    "colab": {
     "base_uri": "https://localhost:8080/",
     "height": 406
    },
    "executionInfo": {
     "elapsed": 2005,
     "status": "ok",
     "timestamp": 1723822978433,
     "user": {
      "displayName": "Stephen Hawking",
      "userId": "16164825628506018492"
     },
     "user_tz": 240
    },
    "id": "25CAR0jY--t9",
    "outputId": "e4cdee06-277f-44f0-c72e-fec7cc0f753b"
   },
   "outputs": [],
   "source": [
    "# Display the composite image\n",
    "plt.imshow(overlay_image_final)\n",
    "plt.axis('off')\n",
    "plt.show()"
   ]
  },
  {
   "cell_type": "code",
   "execution_count": null,
   "metadata": {
    "colab": {
     "base_uri": "https://localhost:8080/",
     "height": 406
    },
    "executionInfo": {
     "elapsed": 4,
     "status": "ok",
     "timestamp": 1723822978833,
     "user": {
      "displayName": "Stephen Hawking",
      "userId": "16164825628506018492"
     },
     "user_tz": 240
    },
    "id": "Y2eLn2FzCEMl",
    "outputId": "debf39b4-1868-412c-8f43-7bd1f36900b6"
   },
   "outputs": [],
   "source": [
    "# Display the composite image\n",
    "plt.imshow(composite_image_final)\n",
    "plt.axis('off')\n",
    "plt.show()\n"
   ]
  },
  {
   "cell_type": "code",
   "execution_count": null,
   "metadata": {
    "colab": {
     "base_uri": "https://localhost:8080/",
     "height": 1000
    },
    "executionInfo": {
     "elapsed": 9642,
     "status": "ok",
     "timestamp": 1723823000335,
     "user": {
      "displayName": "Stephen Hawking",
      "userId": "16164825628506018492"
     },
     "user_tz": 240
    },
    "id": "c13nFLY4Wdtq",
    "outputId": "59ac864a-894e-4117-a072-96ac23f83c3c"
   },
   "outputs": [],
   "source": [
    "plot_masks(masks, 4)"
   ]
  },
  {
   "cell_type": "markdown",
   "metadata": {
    "id": "t0sHvjpimrS1"
   },
   "source": [
    "# Batch Process"
   ]
  },
  {
   "cell_type": "code",
   "execution_count": null,
   "metadata": {
    "colab": {
     "base_uri": "https://localhost:8080/"
    },
    "executionInfo": {
     "elapsed": 8714729,
     "status": "ok",
     "timestamp": 1724451776109,
     "user": {
      "displayName": "Stephen Hawking",
      "userId": "16164825628506018492"
     },
     "user_tz": 240
    },
    "id": "SJpIpzY6mqmi",
    "outputId": "ff7e7483-8582-4e00-9380-d97dd4b25c4b"
   },
   "outputs": [],
   "source": [
    "files = []\n",
    "for file in os.listdir(batch_input_dir):\n",
    "  if file.endswith(\".jpg\"):\n",
    "      files.append(os.path.join(batch_input_dir, file))\n",
    "i = 1\n",
    "c = len(files)\n",
    "for file in files:\n",
    "  single_image_process(file)\n",
    "  print(f\"completed image {i} of {c}\")\n",
    "  i = i + 1"
   ]
  }
 ],
 "metadata": {
  "accelerator": "GPU",
  "colab": {
   "gpuType": "T4",
   "provenance": []
  },
  "kernelspec": {
   "display_name": "Python 3 (ipykernel)",
   "language": "python",
   "name": "python3"
  },
  "language_info": {
   "codemirror_mode": {
    "name": "ipython",
    "version": 3
   },
   "file_extension": ".py",
   "mimetype": "text/x-python",
   "name": "python",
   "nbconvert_exporter": "python",
   "pygments_lexer": "ipython3",
   "version": "3.12.11"
  }
 },
 "nbformat": 4,
 "nbformat_minor": 0
}
